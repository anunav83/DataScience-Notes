{
  "nbformat": 4,
  "nbformat_minor": 0,
  "metadata": {
    "colab": {
      "name": "Untitled1.ipynb",
      "version": "0.3.2",
      "provenance": [],
      "include_colab_link": true
    },
    "kernelspec": {
      "name": "python3",
      "display_name": "Python 3"
    }
  },
  "cells": [
    {
      "cell_type": "markdown",
      "metadata": {
        "id": "view-in-github",
        "colab_type": "text"
      },
      "source": [
        "<a href=\"https://colab.research.google.com/github/anunav83/data/blob/master/PythonProgramming-DataCampNotes.ipynb\" target=\"_parent\"><img src=\"https://colab.research.google.com/assets/colab-badge.svg\" alt=\"Open In Colab\"/></a>"
      ]
    },
    {
      "metadata": {
        "id": "Geq3DMEeRFB0",
        "colab_type": "text"
      },
      "cell_type": "markdown",
      "source": [
        "# Python Programming\n",
        "\n",
        "General purpose programming language. Very easy to build packages. It is open source. Special packages for Data science. 2 versions of Python: 2.7, 3.5 and later. \n",
        "\n",
        "Ipython Shell : Interactive Python. Type python code and immediately results.\n",
        "Python scripts: text file with .py\n",
        "\n",
        "* The high-level data types allow you to express complex operations in a single statement;\n",
        "* statement grouping is done by indentation instead of beginning and ending brackets;\n",
        "* no variable or argument declarations are necessary.\n",
        "\n",
        "\n"
      ]
    }
  ]
}